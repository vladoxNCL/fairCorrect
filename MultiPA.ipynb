{
 "cells": [
  {
   "cell_type": "code",
   "execution_count": 1,
   "metadata": {},
   "outputs": [],
   "source": [
    "import pandas as pd\n",
    "import numpy as np\n",
    "\n",
    "url = 'https://raw.githubusercontent.com/vladoxNCL/fairCorrect/master/Datasets/'"
   ]
  },
  {
   "cell_type": "code",
   "execution_count": 2,
   "metadata": {},
   "outputs": [],
   "source": [
    "\n",
    "# Get balancing feature to end column\n",
    "df = pd.read_csv(url + 'adult.data', header=None)\n",
    "\n",
    "# Assign names to columns\n",
    "names = ['age', 'workclass', 'fnlwgt', 'education', 'education-num', 'marital-status',\n",
    "         'occupation', 'relationship', 'race', 'sex', 'capital-gain',\n",
    "         'capital-loss', 'hours-per-week', 'native-country', 'label']\n",
    "\n",
    "df.columns = names\n",
    "\n",
    "# Cleanup names from spaces\n",
    "col = ['workclass', 'education', 'marital-status', 'occupation',\n",
    "       'relationship', 'race', 'sex', 'native-country', 'label']\n",
    "\n",
    "for c in col:\n",
    "    df[c] = df[c].map(str.strip)\n",
    "\n",
    "# Replace ? character for NaN value\n",
    "df = df.replace('?', np.nan)"
   ]
  },
  {
   "cell_type": "code",
   "execution_count": 11,
   "metadata": {},
   "outputs": [
    {
     "data": {
      "text/plain": [
       "race                label\n",
       "Amer-Indian-Eskimo  <=50K    0.884244\n",
       "                    >50K     0.115756\n",
       "Asian-Pac-Islander  <=50K    0.734360\n",
       "                    >50K     0.265640\n",
       "Black               <=50K    0.876120\n",
       "                    >50K     0.123880\n",
       "Other               <=50K    0.907749\n",
       "                    >50K     0.092251\n",
       "White               <=50K    0.744140\n",
       "                    >50K     0.255860\n",
       "Name: label, dtype: float64"
      ]
     },
     "execution_count": 11,
     "metadata": {},
     "output_type": "execute_result"
    }
   ],
   "source": [
    "df.groupby('race').label.value_counts(normalize=True)"
   ]
  },
  {
   "cell_type": "code",
   "execution_count": 4,
   "metadata": {},
   "outputs": [],
   "source": [
    "PAs = ['sex', 'native-country', 'race', 'age']"
   ]
  },
  {
   "cell_type": "code",
   "execution_count": 17,
   "metadata": {},
   "outputs": [],
   "source": [
    "df['native-country'].replace(np.nan, 'Unknown', inplace=True)"
   ]
  },
  {
   "cell_type": "code",
   "execution_count": 18,
   "metadata": {},
   "outputs": [
    {
     "data": {
      "text/plain": [
       "{'sex': {'Male': 0.06492701896517339, 'Female': -0.13134896882844013},\n",
       " 'native-country': {'United-States': 0.005025204295490859,\n",
       "  'Cuba': 0.0223483372908177,\n",
       "  'Jamaica': -0.11735276732256761,\n",
       "  'India': 0.15919044255397563,\n",
       "  'Unknown': 0.009619259020527904,\n",
       "  'Mexico': -0.18948762898568225,\n",
       "  'South': -0.04080955744602438,\n",
       "  'Puerto-Rico': -0.13554639955128756,\n",
       "  'Honduras': -0.16388648052294746,\n",
       "  'England': 0.09252377588730892,\n",
       "  'Canada': 0.08150449214075245,\n",
       "  'Germany': 0.08035832576565444,\n",
       "  'Iran': 0.17779509371676633,\n",
       "  'Philippines': 0.06727125063478367,\n",
       "  'Italy': 0.10165619597863312,\n",
       "  'Poland': -0.04080955744602438,\n",
       "  'Columbia': -0.20691125236127864,\n",
       "  'Cambodia': 0.12761149518555454,\n",
       "  'Thailand': -0.07414289077935773,\n",
       "  'Ecuador': -0.09795241458888154,\n",
       "  'Laos': -0.1296984463349133,\n",
       "  'Taiwan': 0.15134730529907364,\n",
       "  'Haiti': -0.14990046653693348,\n",
       "  'Portugal': -0.13270144933791628,\n",
       "  'Dominican-Republic': -0.2122381288745958,\n",
       "  'El-Salvador': -0.15590389706866592,\n",
       "  'France': 0.17298354600225146,\n",
       "  'Guatemala': -0.1939345574460244,\n",
       "  'China': 0.02585710922064227,\n",
       "  'Japan': 0.14628721674752398,\n",
       "  'Yugoslavia': 0.1341904425539756,\n",
       "  'Peru': -0.17629342841376633,\n",
       "  'Outlying-US(Guam-USVI-etc)': -0.2408095574460244,\n",
       "  'Scotland': 0.009190442553975608,\n",
       "  'Trinadad&Tobago': -0.13554639955128756,\n",
       "  'Greece': 0.035052511519492846,\n",
       "  'Nicaragua': -0.18198602803425967,\n",
       "  'Vietnam': -0.1661826917743826,\n",
       "  'Hong': 0.0591904425539756,\n",
       "  'Ireland': -0.03247622411269105,\n",
       "  'Hungary': -0.01004032667679361,\n",
       "  'Holand-Netherlands': -0.2408095574460244},\n",
       " 'race': {'White': 0.015050379281039195,\n",
       "  'Black': -0.1169299159607491,\n",
       "  'Asian-Pac-Islander': 0.02483048105253194,\n",
       "  'Amer-Indian-Eskimo': -0.12505393043637808,\n",
       "  'Other': -0.1485586349367993},\n",
       " 'age': {39: 0.09987671706377954,\n",
       "  50: 0.19274525982972313,\n",
       "  38: 0.10018197822507596,\n",
       "  53: 0.16651802876087218,\n",
       "  28: -0.10355465548524007,\n",
       "  37: 0.09951678288031596,\n",
       "  49: 0.11620950667875896,\n",
       "  52: 0.16086408272133962,\n",
       "  31: -0.034728476364943306,\n",
       "  42: 0.10534428870782175,\n",
       "  30: -0.0422032856690209,\n",
       "  23: -0.22712654718376668,\n",
       "  32: -0.012548687880807013,\n",
       "  40: 0.09672192870007135,\n",
       "  34: 0.03345680824246322,\n",
       "  25: -0.17778934341510882,\n",
       "  43: 0.11373589709943016,\n",
       "  54: 0.17605791243349367,\n",
       "  35: 0.006907337531144558,\n",
       "  59: 0.13383832987791927,\n",
       "  56: 0.08159481413867509,\n",
       "  19: -0.23800056868197944,\n",
       "  20: -0.2408095574460244,\n",
       "  45: 0.1515610147610601,\n",
       "  22: -0.22381609339373681,\n",
       "  48: 0.15882211842874538,\n",
       "  21: -0.2366428907793577,\n",
       "  24: -0.20196243965153818,\n",
       "  57: 0.1251122302634728,\n",
       "  44: 0.14731198951530156,\n",
       "  41: 0.10448747225694588,\n",
       "  29: -0.07598790922954224,\n",
       "  18: -0.2408095574460244,\n",
       "  47: 0.1659701035709248,\n",
       "  46: 0.15539125666523745,\n",
       "  36: 0.052063493778919945,\n",
       "  79: 0.16828135164488472,\n",
       "  27: -0.14380356942207229,\n",
       "  67: 0.004223555136757068,\n",
       "  33: -0.022523843160310114,\n",
       "  76: -0.13211390527211136,\n",
       "  17: -0.2408095574460244,\n",
       "  55: 0.10763912990481095,\n",
       "  61: 0.07919044255397562,\n",
       "  70: -0.027326411378608667,\n",
       "  64: 0.013998134861667899,\n",
       "  71: -0.01858733522380218,\n",
       "  68: -0.015809557446024386,\n",
       "  66: -0.0074762241126910545,\n",
       "  51: 0.16591313162960586,\n",
       "  58: 0.09252377588730892,\n",
       "  26: -0.16055478037596072,\n",
       "  60: 0.08290839127192434,\n",
       "  90: -0.05476304581811742,\n",
       "  75: -0.08525400189046883,\n",
       "  65: 0.0007634762618407842,\n",
       "  77: -0.0683957643425761,\n",
       "  62: 0.01888036503459578,\n",
       "  63: 0.01571218168441041,\n",
       "  80: -0.14990046653693348,\n",
       "  72: -0.10648119923706917,\n",
       "  74: -0.005515439798965571,\n",
       "  69: -0.046365113001579944,\n",
       "  73: -0.08455955744602439,\n",
       "  81: -0.0908095574460244,\n",
       "  78: -0.02341825309819831,\n",
       "  88: -0.2408095574460244,\n",
       "  82: -0.2408095574460244,\n",
       "  83: 0.09252377588730892,\n",
       "  84: -0.14080955744602439,\n",
       "  85: -0.2408095574460244,\n",
       "  86: -0.2408095574460244,\n",
       "  87: -0.2408095574460244}}"
      ]
     },
     "execution_count": 18,
     "metadata": {},
     "output_type": "execute_result"
    }
   ],
   "source": [
    "popPR = df.label.value_counts(normalize=True)[1]\n",
    "PAdiffs = {p:{} for p in PAs}\n",
    "for p in PAdiffs.keys():\n",
    "    for u in df[p].unique():\n",
    "        try:\n",
    "            PAdiffs[p][u] = df[df[p] == u].label.value_counts(normalize=True)[1] - popPR\n",
    "        except IndexError:\n",
    "            PAdiffs[p][u] = - popPR"
   ]
  },
  {
   "cell_type": "code",
   "execution_count": 19,
   "metadata": {},
   "outputs": [],
   "source": [
    "df['PAval'] = df[PAs].apply(lambda x: PAdiffs['sex'][x['sex']]\n",
    "                            + PAdiffs['race'][x['race']]\n",
    "                            + PAdiffs['native-country'][x['native-country']]\n",
    "                            + PAdiffs['age'][x['age']], axis=1)"
   ]
  },
  {
   "cell_type": "code",
   "execution_count": 21,
   "metadata": {},
   "outputs": [],
   "source": [
    "df['PA'] = df['PAval'].apply(lambda x: 1 if x > 0 else 0)"
   ]
  },
  {
   "cell_type": "code",
   "execution_count": 22,
   "metadata": {},
   "outputs": [
    {
     "data": {
      "text/plain": [
       "1    17581\n",
       "0    14980\n",
       "Name: PA, dtype: int64"
      ]
     },
     "execution_count": 22,
     "metadata": {},
     "output_type": "execute_result"
    }
   ],
   "source": [
    "df.PA.value_counts()"
   ]
  },
  {
   "cell_type": "code",
   "execution_count": 23,
   "metadata": {},
   "outputs": [
    {
     "data": {
      "text/plain": [
       "PA  label\n",
       "0   <=50K    0.920227\n",
       "    >50K     0.079773\n",
       "1   <=50K    0.621978\n",
       "    >50K     0.378022\n",
       "Name: label, dtype: float64"
      ]
     },
     "execution_count": 23,
     "metadata": {},
     "output_type": "execute_result"
    }
   ],
   "source": [
    "df.groupby('PA')['label'].value_counts(normalize=True)"
   ]
  },
  {
   "cell_type": "code",
   "execution_count": 24,
   "metadata": {},
   "outputs": [],
   "source": [
    "df.drop(['PAval'], axis=1, inplace=True)"
   ]
  },
  {
   "cell_type": "code",
   "execution_count": 26,
   "metadata": {},
   "outputs": [],
   "source": [
    "# One-hot encode categorical variables\n",
    "col = ['workclass', 'education', 'marital-status', 'occupation',\n",
    "       'relationship', 'race', 'native-country',]\n",
    "\n",
    "for c in col:\n",
    "    dummies = []\n",
    "    dummies.append(pd.get_dummies(df[c]))\n",
    "    df_dummies = pd.concat(dummies, axis = 1)\n",
    "    df = pd.concat((df, df_dummies), axis = 1)\n",
    "    df = df.drop([c], axis = 1)\n",
    "\n",
    "# Assign sex and label binary values 0 and 1\n",
    "df.sex = df.sex.replace('Male', 1)\n",
    "df.sex = df.sex.replace('Female', 0)\n",
    "df.label = df.label.replace('<=50K', 0)\n",
    "df.label = df.label.replace('>50K', 1)\n",
    "\n",
    "# Drop fnlwgt variable\n",
    "df = df.drop(['fnlwgt'], axis=1)"
   ]
  },
  {
   "cell_type": "code",
   "execution_count": 27,
   "metadata": {},
   "outputs": [],
   "source": [
    "savepath = '../Datasets/'\n",
    "df.to_csv(savepath + 'income_mod_onehot.csv', index=False)"
   ]
  },
  {
   "cell_type": "markdown",
   "metadata": {},
   "source": [
    "## Older version below"
   ]
  },
  {
   "cell_type": "code",
   "execution_count": 3,
   "metadata": {},
   "outputs": [],
   "source": [
    "df['foreigner'] = np.where(df['native-country']=='United-States',0,1)"
   ]
  },
  {
   "cell_type": "code",
   "execution_count": 4,
   "metadata": {},
   "outputs": [],
   "source": [
    "df['white'] = np.where(df['race']=='White',1,0)"
   ]
  },
  {
   "cell_type": "code",
   "execution_count": 5,
   "metadata": {},
   "outputs": [],
   "source": [
    "df['over35'] = np.where(df['age']>=35, 1, 0)"
   ]
  },
  {
   "cell_type": "code",
   "execution_count": 6,
   "metadata": {},
   "outputs": [],
   "source": [
    "# One-hot encode categorical variables\n",
    "col = ['workclass', 'education', 'marital-status', 'occupation',\n",
    "       'relationship', 'race', 'native-country',]\n",
    "\n",
    "for c in col:\n",
    "    dummies = []\n",
    "    dummies.append(pd.get_dummies(df[c]))\n",
    "    df_dummies = pd.concat(dummies, axis = 1)\n",
    "    df = pd.concat((df, df_dummies), axis = 1)\n",
    "    df = df.drop([c], axis = 1)\n",
    "\n",
    "# Assign sex and label binary values 0 and 1\n",
    "df.sex = df.sex.replace('Male', 1)\n",
    "df.sex = df.sex.replace('Female', 0)\n",
    "df.label = df.label.replace('<=50K', 0)\n",
    "df.label = df.label.replace('>50K', 1)\n",
    "\n",
    "# Drop fnlwgt variable\n",
    "df = df.drop(['fnlwgt'], axis=1)"
   ]
  },
  {
   "cell_type": "code",
   "execution_count": 7,
   "metadata": {},
   "outputs": [],
   "source": [
    "def findFav(df, pa, label):\n",
    "    pos_rates = [df[(df[pa] == u) & (df[label] == 1)].shape[0] / df[df[pa] == u].shape[0]\n",
    "                 for u in df[pa].unique()]\n",
    "    max_value = max(pos_rates)\n",
    "    max_index = pos_rates.index(max_value)\n",
    "\n",
    "    # Favoured group\n",
    "    fav = df[pa].unique()[max_index]\n",
    "    return fav"
   ]
  },
  {
   "cell_type": "code",
   "execution_count": 8,
   "metadata": {},
   "outputs": [],
   "source": [
    "def findUnfav(df, pa, label):\n",
    "    pos_rates = [df[(df[pa] == u) & (df[label] == 1)].shape[0] / df[df[pa] == u].shape[0]\n",
    "                 for u in df[pa].unique()]\n",
    "    min_value = min(pos_rates)\n",
    "    min_index = pos_rates.index(min_value)\n",
    "\n",
    "    # Favoured group\n",
    "    unfav = df[pa].unique()[min_index]\n",
    "    return unfav"
   ]
  },
  {
   "cell_type": "code",
   "execution_count": 9,
   "metadata": {},
   "outputs": [],
   "source": [
    "PAs = ['sex', 'foreigner', 'white', 'over35']\n",
    "PAfav = []\n",
    "PAdiffs = []\n",
    "\n",
    "for p in PAs:\n",
    "    f = findFav(df, p, 'label')\n",
    "    u = findUnfav(df, p, 'label')\n",
    "    fpr = df[df[p] == f]['label'].value_counts(normalize=True)[1]\n",
    "    upr = df[df[p] == u]['label'].value_counts(normalize=True)[1]\n",
    "    ppr = df['label'].value_counts(normalize=True)[1]\n",
    "#     diff = fpr - upr\n",
    "    diff = upr - ppr\n",
    "    PAfav.append(f)\n",
    "    PAdiffs.append(diff)"
   ]
  },
  {
   "cell_type": "code",
   "execution_count": 10,
   "metadata": {},
   "outputs": [
    {
     "data": {
      "text/plain": [
       "[1, 0, 1, 1]"
      ]
     },
     "execution_count": 10,
     "metadata": {},
     "output_type": "execute_result"
    }
   ],
   "source": [
    "PAfav"
   ]
  },
  {
   "cell_type": "code",
   "execution_count": 11,
   "metadata": {},
   "outputs": [
    {
     "data": {
      "text/plain": [
       "[-0.13134896882844013,\n",
       " -0.04322772317884657,\n",
       " -0.08822789253559235,\n",
       " -0.13489454570141624]"
      ]
     },
     "execution_count": 11,
     "metadata": {},
     "output_type": "execute_result"
    }
   ],
   "source": [
    "PAdiffs"
   ]
  },
  {
   "cell_type": "code",
   "execution_count": 12,
   "metadata": {},
   "outputs": [],
   "source": [
    "df['PAval'] = 0\n",
    "for i in range(len(PAs)):\n",
    "    PA = PAs[i]\n",
    "    fav = PAfav[i]\n",
    "    diff = PAdiffs[i]\n",
    "    df.PAval = df[[PA, 'PAval']].apply(lambda x: x['PAval'] + diff if x[PA] == fav \n",
    "                                       else x['PAval'] - diff, axis=1)"
   ]
  },
  {
   "cell_type": "code",
   "execution_count": 13,
   "metadata": {},
   "outputs": [
    {
     "data": {
      "text/plain": [
       " 0.585075    10811\n",
       " 0.110539     6842\n",
       "-0.282013     4011\n",
       " 0.192523     3957\n",
       " 0.378518      972\n",
       "-0.014034      937\n",
       "-0.096017      863\n",
       " 0.488569      825\n",
       "-0.488569      777\n",
       " 0.014034      696\n",
       " 0.282013      441\n",
       " 0.096017      366\n",
       "-0.192523      340\n",
       "-0.378518      308\n",
       "-0.585075      212\n",
       "-0.110539      203\n",
       "Name: PAval, dtype: int64"
      ]
     },
     "execution_count": 13,
     "metadata": {},
     "output_type": "execute_result"
    }
   ],
   "source": [
    "df.PAval.value_counts()"
   ]
  },
  {
   "cell_type": "code",
   "execution_count": 15,
   "metadata": {},
   "outputs": [
    {
     "data": {
      "text/plain": [
       "PAval      label\n",
       "-0.585075  0        0.952830\n",
       "           1        0.047170\n",
       "-0.488569  0        0.971686\n",
       "           1        0.028314\n",
       "-0.378518  0        0.948052\n",
       "           1        0.051948\n",
       "-0.282013  0        0.937671\n",
       "           1        0.062329\n",
       "-0.192523  0        0.867647\n",
       "           1        0.132353\n",
       "-0.110539  0        0.837438\n",
       "           1        0.162562\n",
       "-0.096017  0        0.913094\n",
       "           1        0.086906\n",
       "-0.014034  0        0.908218\n",
       "           1        0.091782\n",
       " 0.014034  0        0.906609\n",
       "           1        0.093391\n",
       " 0.096017  0        0.868852\n",
       "           1        0.131148\n",
       " 0.110539  0        0.853113\n",
       "           1        0.146887\n",
       " 0.192523  0        0.819560\n",
       "           1        0.180440\n",
       " 0.282013  0        0.616780\n",
       "           1        0.383220\n",
       " 0.378518  0        0.707819\n",
       "           1        0.292181\n",
       " 0.488569  0        0.655758\n",
       "           1        0.344242\n",
       " 0.585075  0        0.562020\n",
       "           1        0.437980\n",
       "Name: label, dtype: float64"
      ]
     },
     "execution_count": 15,
     "metadata": {},
     "output_type": "execute_result"
    }
   ],
   "source": [
    "df.groupby('PAval')['label'].value_counts(normalize=True)"
   ]
  },
  {
   "cell_type": "code",
   "execution_count": 15,
   "metadata": {},
   "outputs": [],
   "source": [
    "df['PA'] = df['PAval'].apply(lambda x: 1 if x > 0 else 0)"
   ]
  },
  {
   "cell_type": "code",
   "execution_count": 16,
   "metadata": {},
   "outputs": [
    {
     "data": {
      "text/plain": [
       "1    24910\n",
       "0     7651\n",
       "Name: PA, dtype: int64"
      ]
     },
     "execution_count": 16,
     "metadata": {},
     "output_type": "execute_result"
    }
   ],
   "source": [
    "df.PA.value_counts()"
   ]
  },
  {
   "cell_type": "code",
   "execution_count": 17,
   "metadata": {},
   "outputs": [
    {
     "data": {
      "text/plain": [
       "PA  label\n",
       "0   0        0.929813\n",
       "    1        0.070187\n",
       "1   0        0.706784\n",
       "    1        0.293216\n",
       "Name: label, dtype: float64"
      ]
     },
     "execution_count": 17,
     "metadata": {},
     "output_type": "execute_result"
    }
   ],
   "source": [
    "df.groupby('PA')['label'].value_counts(normalize=True)"
   ]
  },
  {
   "cell_type": "code",
   "execution_count": 20,
   "metadata": {},
   "outputs": [],
   "source": [
    "df.drop(['foreigner', 'white', 'over35', 'PAval'], axis=1, inplace=True)"
   ]
  },
  {
   "cell_type": "code",
   "execution_count": 22,
   "metadata": {},
   "outputs": [],
   "source": [
    "savepath = '../Datasets/'\n",
    "df.to_csv(savepath + 'income_mod_onehot.csv', index=False)"
   ]
  },
  {
   "cell_type": "code",
   "execution_count": null,
   "metadata": {},
   "outputs": [],
   "source": []
  }
 ],
 "metadata": {
  "kernelspec": {
   "display_name": "Python 3",
   "language": "python",
   "name": "python3"
  },
  "language_info": {
   "codemirror_mode": {
    "name": "ipython",
    "version": 3
   },
   "file_extension": ".py",
   "mimetype": "text/x-python",
   "name": "python",
   "nbconvert_exporter": "python",
   "pygments_lexer": "ipython3",
   "version": "3.7.3"
  }
 },
 "nbformat": 4,
 "nbformat_minor": 2
}
